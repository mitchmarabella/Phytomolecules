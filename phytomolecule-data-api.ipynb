{
 "cells": [
  {
   "cell_type": "markdown",
   "metadata": {},
   "source": [
    "# Data Retrival and Organization\n",
    "\n",
    "Plan:\n",
    "1. use API to search phyotmolecules from Datasets and get information from Pubmed to have charcteristics\n",
    "2. put all this info in a csv\n"
   ]
  },
  {
   "cell_type": "code",
   "execution_count": null,
   "metadata": {},
   "outputs": [
    {
     "name": "stdout",
     "output_type": "stream",
     "text": [
      "Requirement already satisfied: rdkit in /home/codespace/.python/current/lib/python3.12/site-packages (2024.9.6)\n",
      "Requirement already satisfied: numpy in /home/codespace/.local/lib/python3.12/site-packages (from rdkit) (2.2.4)\n",
      "Requirement already satisfied: Pillow in /home/codespace/.local/lib/python3.12/site-packages (from rdkit) (11.1.0)\n",
      "Note: you may need to restart the kernel to use updated packages.\n"
     ]
    }
   ],
   "source": [
    "pip install rdkit"
   ]
  },
  {
   "cell_type": "code",
   "execution_count": 1,
   "metadata": {},
   "outputs": [],
   "source": [
    "#set up imports\n",
    "import pandas as pd\n",
    "import requests\n",
    "# RDKit for molecular descriptors\n",
    "from rdkit import Chem\n",
    "from rdkit.Chem import Descriptors\n",
    "from rdkit.Chem.AllChem import GetMorganFingerprintAsBitVect\n",
    "from rdkit.DataStructs.cDataStructs import ConvertToNumpyArray\n",
    "import numpy as np\n"
   ]
  },
  {
   "cell_type": "code",
   "execution_count": 2,
   "metadata": {},
   "outputs": [
    {
     "name": "stdout",
     "output_type": "stream",
     "text": [
      "Loaded 29585 unique chemical names from 'CHEM' column.\n"
     ]
    }
   ],
   "source": [
    "# Load the CSV file (make sure it's in your working directory or give full path)\n",
    "df = pd.read_csv(\"CHEMICALS.csv\")\n",
    "\n",
    "# Use the 'CHEM' column for PubChem lookup\n",
    "names = df['CHEM'].astype(str).str.strip().tolist()\n",
    "\n",
    "# Clean: remove blanks and duplicates\n",
    "names = [n for n in names if n]  # drop empty strings\n",
    "unique_names = list(dict.fromkeys(names))  # preserves order\n",
    "\n",
    "print(f\"Loaded {len(unique_names)} unique chemical names from 'CHEM' column.\")"
   ]
  },
  {
   "cell_type": "code",
   "execution_count": 3,
   "metadata": {},
   "outputs": [
    {
     "name": "stdout",
     "output_type": "stream",
     "text": [
      "Done. Found CIDs for 1 names. Not found: 9\n"
     ]
    }
   ],
   "source": [
    "#Testing workflow for getting PubChem CIDs from informal chemical names\n",
    "test_names = unique_names[:10]\n",
    "\n",
    "import requests\n",
    "import time\n",
    "\n",
    "# Set up a requests session for performance\n",
    "session = requests.Session()\n",
    "results = []\n",
    "not_found_count = 0\n",
    "\n",
    "for i, name in enumerate(test_names):\n",
    "    url = f\"https://pubchem.ncbi.nlm.nih.gov/rest/pug/compound/name/{requests.utils.requote_uri(name)}/cids/JSON\"\n",
    "    \n",
    "    try:\n",
    "        response = session.get(url)\n",
    "    except requests.exceptions.RequestException as e:\n",
    "        print(f\"[ERROR] Request failed for '{name}': {e}\")\n",
    "        results.append((name, None))\n",
    "        not_found_count += 1\n",
    "        continue\n",
    "\n",
    "    if response.status_code != 200:\n",
    "        results.append((name, None))\n",
    "        not_found_count += 1\n",
    "    else:\n",
    "        try:\n",
    "            data = response.json()\n",
    "            cid = data.get('IdentifierList', {}).get('CID', [None])[0]\n",
    "            results.append((name, cid))\n",
    "        except Exception as e:\n",
    "            print(f\"[ERROR] Could not parse JSON for '{name}': {e}\")\n",
    "            results.append((name, None))\n",
    "            not_found_count += 1\n",
    "\n",
    "    # Throttle requests to ~5 per second\n",
    "    if i % 5 == 0:\n",
    "        time.sleep(1)\n",
    "\n",
    "print(f\"Done. Found CIDs for {len(results) - not_found_count} names. Not found: {not_found_count}\")"
   ]
  },
  {
   "cell_type": "markdown",
   "metadata": {},
   "source": [
    "It works! huzzah, it is okay that not all chemical names yeilded results since there are 29585 unique chemical names from 'CHEM' column"
   ]
  },
  {
   "cell_type": "code",
   "execution_count": 1,
   "metadata": {},
   "outputs": [],
   "source": [
    "# Set up a requests session for performance\n",
    "#  session = requests.Session()\n",
    "#  results = []\n",
    "#  not_found_count = 0\n",
    "\n",
    "#   for i, name in enumerate(unique_names):\n",
    "#       url = f\"https://pubchem.ncbi.nlm.nih.gov/rest/pug/compound/name/{requests.utils.requote_uri(name)}/cids/JSON\"\n",
    "        \n",
    "#       try:\n",
    "#           response = session.get(url)\n",
    "#       except requests.exceptions.RequestException as e:\n",
    "#           print(f\"[ERROR] Request failed for '{name}': {e}\")\n",
    "#           results.append((name, None))\n",
    "#           not_found_count += 1\n",
    "#            continue\n",
    "\n",
    "#        if response.status_code != 200:\n",
    "#            results.append((name, None))\n",
    "#            not_found_count += 1\n",
    "#        else:\n",
    "#            try:\n",
    "#                data = response.json()\n",
    "#                cid = data.get('IdentifierList', {}).get('CID', [None])[0]\n",
    "#                results.append((name, cid))\n",
    "#            except Exception as e:\n",
    "#                print(f\"[ERROR] Could not parse JSON for '{name}': {e}\")\n",
    "#                results.append((name, None))\n",
    "#                not_found_count += 1\n",
    "\n",
    "        # Throttle requests to ~5 per second\n",
    " #       if i % 5 == 0:\n",
    " #           time.sleep(1)\n",
    "\n",
    " #   print(f\"Done. Found CIDs for {len(results) - not_found_count} names. Not found: {not_found_count}\")"
   ]
  },
  {
   "cell_type": "markdown",
   "metadata": {},
   "source": [
    "The code above was posted in a jupyter notebook since after 30 minutes Codespaces turns off. THis code worked though and here was the printed output: Done. Found CIDs for 12525 names. Not found: 17060"
   ]
  },
  {
   "cell_type": "markdown",
   "metadata": {},
   "source": [
    "# Below is the code I put int the same Jupyter notebook to save the data to a csv"
   ]
  },
  {
   "cell_type": "code",
   "execution_count": null,
   "metadata": {},
   "outputs": [],
   "source": [
    "# Save results to CSV\n",
    "#result_df = pd.DataFrame(results, columns=[\"Chemical_Name\", \"PubChem_CID\"])\n",
    "result_df.to_csv(\"chemical_name_to_cid.csv\", index=False)\n",
    "\n",
    "# Quick preview\n",
    "#result_df.head()"
   ]
  }
 ],
 "metadata": {
  "kernelspec": {
   "display_name": "Python 3",
   "language": "python",
   "name": "python3"
  },
  "language_info": {
   "codemirror_mode": {
    "name": "ipython",
    "version": 3
   },
   "file_extension": ".py",
   "mimetype": "text/x-python",
   "name": "python",
   "nbconvert_exporter": "python",
   "pygments_lexer": "ipython3",
   "version": "3.12.1"
  }
 },
 "nbformat": 4,
 "nbformat_minor": 2
}
