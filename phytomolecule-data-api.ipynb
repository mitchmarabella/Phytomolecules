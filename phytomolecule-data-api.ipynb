{
 "cells": [
  {
   "cell_type": "markdown",
   "metadata": {},
   "source": [
    "# Data Retrival and Organization\n",
    "\n",
    "Plan:\n",
    "1. use API to search phyotmolecules from Datasets and get information from Pubmed to have charcteristics\n",
    "2. put all this info in a csv\n"
   ]
  },
  {
   "cell_type": "code",
   "execution_count": 5,
   "metadata": {},
   "outputs": [
    {
     "name": "stdout",
     "output_type": "stream",
     "text": [
      "Collecting rdkit\n",
      "  Downloading rdkit-2024.9.6-cp312-cp312-manylinux_2_28_x86_64.whl.metadata (4.0 kB)\n",
      "Requirement already satisfied: numpy in /home/codespace/.local/lib/python3.12/site-packages (from rdkit) (2.2.4)\n",
      "Requirement already satisfied: Pillow in /home/codespace/.local/lib/python3.12/site-packages (from rdkit) (11.1.0)\n",
      "Downloading rdkit-2024.9.6-cp312-cp312-manylinux_2_28_x86_64.whl (34.3 MB)\n",
      "\u001b[2K   \u001b[90m━━━━━━━━━━━━━━━━━━━━━━━━━━━━━━━━━━━━━━━━\u001b[0m \u001b[32m34.3/34.3 MB\u001b[0m \u001b[31m52.7 MB/s\u001b[0m eta \u001b[36m0:00:00\u001b[0m:00:01\u001b[0m\n",
      "\u001b[?25hInstalling collected packages: rdkit\n",
      "Successfully installed rdkit-2024.9.6\n",
      "Note: you may need to restart the kernel to use updated packages.\n"
     ]
    }
   ],
   "source": [
    "pip install rdkit\n"
   ]
  },
  {
   "cell_type": "code",
   "execution_count": 7,
   "metadata": {},
   "outputs": [],
   "source": [
    "#set up imports\n",
    "import pandas as pd\n",
    "import requests\n",
    "# RDKit for molecular descriptors\n",
    "from rdkit import Chem\n",
    "from rdkit.Chem import Descriptors\n",
    "from rdkit.Chem.AllChem import GetMorganFingerprintAsBitVect\n",
    "from rdkit.DataStructs.cDataStructs import ConvertToNumpyArray\n",
    "import numpy as np\n"
   ]
  },
  {
   "cell_type": "code",
   "execution_count": 10,
   "metadata": {},
   "outputs": [
    {
     "name": "stdout",
     "output_type": "stream",
     "text": [
      "Loaded 29585 unique chemical names from 'CHEM' column.\n"
     ]
    }
   ],
   "source": [
    "# Load the CSV file (make sure it's in your working directory or give full path)\n",
    "df = pd.read_csv(\"CHEMICALS.csv\")\n",
    "\n",
    "# Use the 'CHEM' column for PubChem lookup\n",
    "names = df['CHEM'].astype(str).str.strip().tolist()\n",
    "\n",
    "# Clean: remove blanks and duplicates\n",
    "names = [n for n in names if n]  # drop empty strings\n",
    "unique_names = list(dict.fromkeys(names))  # preserves order\n",
    "\n",
    "print(f\"Loaded {len(unique_names)} unique chemical names from 'CHEM' column.\")"
   ]
  },
  {
   "cell_type": "code",
   "execution_count": null,
   "metadata": {},
   "outputs": [
    {
     "name": "stdout",
     "output_type": "stream",
     "text": [
      "Done. Found CIDs for 1 names. Not found: 9\n"
     ]
    }
   ],
   "source": [
    "#Testing workflow for getting PubChem CIDs from informal chemical names\n",
    "test_names = unique_names[:10]\n",
    "\n",
    "import requests\n",
    "import time\n",
    "\n",
    "# Set up a requests session for performance\n",
    "session = requests.Session()\n",
    "results = []\n",
    "not_found_count = 0\n",
    "\n",
    "for i, name in enumerate(test_names):\n",
    "    url = f\"https://pubchem.ncbi.nlm.nih.gov/rest/pug/compound/name/{requests.utils.requote_uri(name)}/cids/JSON\"\n",
    "    \n",
    "    try:\n",
    "        response = session.get(url)\n",
    "    except requests.exceptions.RequestException as e:\n",
    "        print(f\"[ERROR] Request failed for '{name}': {e}\")\n",
    "        results.append((name, None))\n",
    "        not_found_count += 1\n",
    "        continue\n",
    "\n",
    "    if response.status_code != 200:\n",
    "        results.append((name, None))\n",
    "        not_found_count += 1\n",
    "    else:\n",
    "        try:\n",
    "            data = response.json()\n",
    "            cid = data.get('IdentifierList', {}).get('CID', [None])[0]\n",
    "            results.append((name, cid))\n",
    "        except Exception as e:\n",
    "            print(f\"[ERROR] Could not parse JSON for '{name}': {e}\")\n",
    "            results.append((name, None))\n",
    "            not_found_count += 1\n",
    "\n",
    "    # Throttle requests to ~5 per second\n",
    "    if i % 5 == 0:\n",
    "        time.sleep(1)\n",
    "\n",
    "print(f\"Done. Found CIDs for {len(results) - not_found_count} names. Not found: {not_found_count}\")"
   ]
  },
  {
   "cell_type": "markdown",
   "metadata": {},
   "source": [
    "It works! huzzah, it is okay that not all chemical names yeilded results since there are 29585 unique chemical names from 'CHEM' column"
   ]
  },
  {
   "cell_type": "markdown",
   "metadata": {},
   "source": []
  }
 ],
 "metadata": {
  "kernelspec": {
   "display_name": "Python 3",
   "language": "python",
   "name": "python3"
  },
  "language_info": {
   "codemirror_mode": {
    "name": "ipython",
    "version": 3
   },
   "file_extension": ".py",
   "mimetype": "text/x-python",
   "name": "python",
   "nbconvert_exporter": "python",
   "pygments_lexer": "ipython3",
   "version": "3.12.1"
  }
 },
 "nbformat": 4,
 "nbformat_minor": 2
}
